{
  "nbformat": 4,
  "nbformat_minor": 0,
  "metadata": {
    "colab": {
      "provenance": []
    },
    "kernelspec": {
      "name": "python3",
      "display_name": "Python 3"
    },
    "language_info": {
      "name": "python"
    }
  },
  "cells": [
    {
      "cell_type": "markdown",
      "source": [
        "## **rock paper scissor game**"
      ],
      "metadata": {
        "id": "ywISPZNxFkvh"
      }
    },
    {
      "cell_type": "code",
      "execution_count": null,
      "metadata": {
        "id": "kpPSaSjLBB7C",
        "colab": {
          "base_uri": "https://localhost:8080/"
        },
        "outputId": "22b9d709-d549-4927-8832-f2e2a9cf4b3d"
      },
      "outputs": [
        {
          "output_type": "stream",
          "name": "stdout",
          "text": [
            "sir,please enter rock,paper,scissors: scissors\n",
            "your chosse scissors\n",
            "computer chosse paper \n",
            "Scissors cut paper! You win!\n"
          ]
        }
      ],
      "source": [
        "import random\n",
        "\n",
        "def get_choices():\n",
        "\n",
        "  player_choice=input(\"sir,please enter rock,paper,scissors: \")\n",
        "  options=[\"rock\",\"paper\",\"scissors\"]\n",
        "  computer_choice=random.choice(options)\n",
        "  choice={\"player\":player_choice,\"computer\":computer_choice}\n",
        "  return choice\n",
        "\n",
        "def check_win(player,computer):\n",
        "  print(f\"your chosse {player}\\ncomputer chosse {computer} \")\n",
        "  if player==computer:\n",
        "    return \"It's a tie!\"\n",
        "  elif player==\"rock\":\n",
        "    if computer==\"scissors\":\n",
        "       return \"Rock smashes scissors! You win!\"\n",
        "    else:\n",
        "       return \"Paper cover rock! you lose!\"\n",
        "  elif player==\"paper\":\n",
        "    if computer==\"rock\":\n",
        "       return \"Paper covers rock! You win!\"\n",
        "    else:\n",
        "       return \"Scissors cut paper! you lose!\"\n",
        "  elif player==\"scissors\":\n",
        "    if computer==\"paper\":\n",
        "       return \"Scissors cut paper! You win!\"\n",
        "    else:\n",
        "       return \"Rock smashes scissors! you lose!\"\n",
        "\n",
        "choices= get_choices()\n",
        "result= check_win(choices[\"player\"], choices[\"computer\"])\n",
        "print(result)"
      ]
    }
  ]
}